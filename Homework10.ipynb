{
  "nbformat": 4,
  "nbformat_minor": 0,
  "metadata": {
    "colab": {
      "provenance": [],
      "authorship_tag": "ABX9TyPHSgKGZlinLL1WY7na5v1h",
      "include_colab_link": true
    },
    "kernelspec": {
      "name": "python3",
      "display_name": "Python 3"
    },
    "language_info": {
      "name": "python"
    }
  },
  "cells": [
    {
      "cell_type": "markdown",
      "metadata": {
        "id": "view-in-github",
        "colab_type": "text"
      },
      "source": [
        "<a href=\"https://colab.research.google.com/github/Irina-Bichik/Python/blob/master/Homework10.ipynb\" target=\"_parent\"><img src=\"https://colab.research.google.com/assets/colab-badge.svg\" alt=\"Open In Colab\"/></a>"
      ]
    },
    {
      "cell_type": "code",
      "execution_count": null,
      "metadata": {
        "id": "KUD8STIBKHQy"
      },
      "outputs": [],
      "source": [
        "# Задача 44:\n",
        "# В ячейке ниже представлен код генерирующий DataFrame, которая состоит всего из 1 столбца.\n",
        "# Ваша задача перевести его в one hot вид.\n",
        "# Сможете ли вы это сделать без get_dummies?"
      ]
    },
    {
      "cell_type": "code",
      "source": [
        "import pandas as pd\n",
        "import numpy as np\n",
        "import random\n",
        "\n"
      ],
      "metadata": {
        "id": "Gmiz4yEUKMbK"
      },
      "execution_count": 1,
      "outputs": []
    },
    {
      "cell_type": "code",
      "source": [
        "lst = ['robot'] * 10\n",
        "lst += ['human'] * 10\n",
        "random.shuffle(lst)\n",
        "data = pd.DataFrame({'whoAmI': lst})\n",
        "print(data)\n",
        "\n",
        "print('')\n",
        "\n"
      ],
      "metadata": {
        "colab": {
          "base_uri": "https://localhost:8080/"
        },
        "id": "Ys723wLMKP3h",
        "outputId": "7a958d64-b222-4941-d2f3-d3a9a39951b5"
      },
      "execution_count": 2,
      "outputs": [
        {
          "output_type": "stream",
          "name": "stdout",
          "text": [
            "   whoAmI\n",
            "0   human\n",
            "1   human\n",
            "2   robot\n",
            "3   robot\n",
            "4   human\n",
            "5   human\n",
            "6   human\n",
            "7   robot\n",
            "8   robot\n",
            "9   human\n",
            "10  human\n",
            "11  human\n",
            "12  robot\n",
            "13  robot\n",
            "14  robot\n",
            "15  robot\n",
            "16  robot\n",
            "17  human\n",
            "18  robot\n",
            "19  human\n",
            "\n"
          ]
        }
      ]
    },
    {
      "cell_type": "code",
      "source": [
        "data['tmp'] = 1\n",
        "data.set_index([data.index, 'whoAmI'], inplace=True)\n",
        "data = data.unstack(level=-1, fill_value = 0).astype(int)\n",
        "data.columns = data.columns.droplevel()\n",
        "data.columns.name = None\n",
        "print(data)"
      ],
      "metadata": {
        "colab": {
          "base_uri": "https://localhost:8080/"
        },
        "id": "flu2FCtQKR3g",
        "outputId": "8804daf0-613b-45f3-cb8d-383af4861773"
      },
      "execution_count": 3,
      "outputs": [
        {
          "output_type": "stream",
          "name": "stdout",
          "text": [
            "    human  robot\n",
            "0       1      0\n",
            "1       1      0\n",
            "2       0      1\n",
            "3       0      1\n",
            "4       1      0\n",
            "5       1      0\n",
            "6       1      0\n",
            "7       0      1\n",
            "8       0      1\n",
            "9       1      0\n",
            "10      1      0\n",
            "11      1      0\n",
            "12      0      1\n",
            "13      0      1\n",
            "14      0      1\n",
            "15      0      1\n",
            "16      0      1\n",
            "17      1      0\n",
            "18      0      1\n",
            "19      1      0\n"
          ]
        }
      ]
    }
  ]
}